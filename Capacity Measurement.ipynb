{
 "cells": [
  {
   "cell_type": "code",
   "execution_count": 5,
   "metadata": {},
   "outputs": [],
   "source": [
    "import geopandas as gpd\n",
    "import pandas as pd\n",
    "import numpy as np\n",
    "from geopandas import GeoDataFrame\n",
    "from shapely.geometry import Point, LineString\n",
    "import matplotlib\n",
    "from openpyxl import load_workbook\n",
    "from datetime import datetime"
   ]
  },
  {
   "cell_type": "code",
   "execution_count": 6,
   "metadata": {},
   "outputs": [],
   "source": [
    "gen_data = pd.read_csv('Monthly generation states 2018-09-23.csv')\n",
    "Texas_gen_data = gen_data[gen_data['state']=='TX'].reset_index(drop=True)\n",
    "Texas_gen_data_2017 = Texas_gen_data[Texas_gen_data['year']==2017].drop(['year', 'state', 'total fuel (mmbtu)', 'elec fuel (mmbtu)', 'elec fuel co2 (kg)', 'datetime', 'quarter'], axis=1).reset_index(drop=True)"
   ]
  },
  {
   "cell_type": "code",
   "execution_count": 7,
   "metadata": {},
   "outputs": [],
   "source": [
    "fuel_cat = list(Texas_gen_data_2017['fuel category'].unique())"
   ]
  },
  {
   "cell_type": "code",
   "execution_count": 8,
   "metadata": {},
   "outputs": [],
   "source": [
    "writer = pd.ExcelWriter('Fuel_categories_gen.xlsx', engine = 'openpyxl')\n",
    "\n",
    "Total= []\n",
    "\n",
    "for fuel in fuel_cat:\n",
    "    df = Texas_gen_data_2017[Texas_gen_data_2017['fuel category']==fuel].drop('fuel category', axis=1).reset_index(drop=True)\n",
    "    Total.append(df)\n",
    "    df.to_excel(writer, sheet_name = str(fuel), index=False)\n",
    "\n",
    "total_df = np.zeros((12,2))\n",
    "\n",
    "for df in Total:\n",
    "     total_df += df.iloc[:,1:].as_matrix()\n",
    "\n",
    "total_df = pd.DataFrame(data = total_df, columns = ['generation (mwh)', 'co2 emissions (kg)'])\n",
    "total_df['Month'] = pd.Series(range(1,13))\n",
    "total_df.to_excel(writer, sheet_name = 'Total', index=False)\n",
    "\n",
    "writer.save()\n",
    "writer.close()"
   ]
  },
  {
   "cell_type": "code",
   "execution_count": 9,
   "metadata": {},
   "outputs": [],
   "source": [
    "Load = pd.read_excel('Data/Texas_Load_2017/native_Load_2017.xlsx')"
   ]
  },
  {
   "cell_type": "code",
   "execution_count": 10,
   "metadata": {},
   "outputs": [],
   "source": [
    "def convert_time(x):\n",
    "    t = x.split(' ')\n",
    "    t2 = t[1].split(':')\n",
    "    t3 = int(t2[0])-1\n",
    "    t = t[0] + ' ' + str(t3) + ':' + t2[1]\n",
    "    return datetime.strptime(t, '%m/%d/%Y %H:%M')"
   ]
  },
  {
   "cell_type": "code",
   "execution_count": 11,
   "metadata": {},
   "outputs": [
    {
     "data": {
      "text/plain": [
       "datetime.datetime(2017, 1, 1, 22, 0)"
      ]
     },
     "execution_count": 11,
     "metadata": {},
     "output_type": "execute_result"
    }
   ],
   "source": [
    "convert_time(Load['Hour Ending'][22])"
   ]
  },
  {
   "cell_type": "code",
   "execution_count": 12,
   "metadata": {},
   "outputs": [],
   "source": [
    "Load['Time'] = Load['Hour Ending'].apply(convert_time)"
   ]
  },
  {
   "cell_type": "code",
   "execution_count": 13,
   "metadata": {},
   "outputs": [],
   "source": [
    "Load.drop('Hour Ending', axis=1, inplace = True)\n",
    "Load.set_index(\"Time\", drop=True, inplace=True)\n",
    "Load = Load.resample('M').sum().reset_index()"
   ]
  },
  {
   "cell_type": "code",
   "execution_count": 14,
   "metadata": {},
   "outputs": [],
   "source": [
    "Load['Month'] = Load['Time'].dt.month"
   ]
  },
  {
   "cell_type": "code",
   "execution_count": 15,
   "metadata": {},
   "outputs": [],
   "source": [
    "Load.drop('Time', axis = 1, inplace=True)"
   ]
  },
  {
   "cell_type": "code",
   "execution_count": 16,
   "metadata": {},
   "outputs": [],
   "source": [
    "book = load_workbook('Fuel_categories_gen.xlsx')\n",
    "writer = pd.ExcelWriter('Fuel_categories_gen.xlsx', engine = 'openpyxl')\n",
    "writer.book = book\n",
    "# writer = pd.ExcelWriter('Fuel_categories_gen.xlsx', engine = 'openpyxl')\n",
    "Load.to_excel(writer, sheet_name = 'Load', index=False)\n",
    "writer.save()\n",
    "writer.close()"
   ]
  },
  {
   "cell_type": "code",
   "execution_count": null,
   "metadata": {},
   "outputs": [],
   "source": []
  }
 ],
 "metadata": {
  "kernelspec": {
   "display_name": "Python [conda env:psci]",
   "language": "python",
   "name": "conda-env-psci-py"
  },
  "language_info": {
   "codemirror_mode": {
    "name": "ipython",
    "version": 3
   },
   "file_extension": ".py",
   "mimetype": "text/x-python",
   "name": "python",
   "nbconvert_exporter": "python",
   "pygments_lexer": "ipython3",
   "version": "3.6.6"
  }
 },
 "nbformat": 4,
 "nbformat_minor": 2
}
