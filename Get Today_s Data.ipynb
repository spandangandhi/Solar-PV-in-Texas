{
 "cells": [
  {
   "cell_type": "code",
   "execution_count": 1,
   "metadata": {},
   "outputs": [
    {
     "name": "stderr",
     "output_type": "stream",
     "text": [
      "C:\\Users\\gandh\\Anaconda3\\lib\\site-packages\\h5py\\__init__.py:36: FutureWarning: Conversion of the second argument of issubdtype from `float` to `np.floating` is deprecated. In future, it will be treated as `np.float64 == np.dtype(float).type`.\n",
      "  from ._conv import register_converters as _register_converters\n"
     ]
    },
    {
     "name": "stdout",
     "output_type": "stream",
     "text": [
      "X = Tensor(\"Placeholder:0\", shape=(768, ?), dtype=float32)\n",
      "Y = Tensor(\"Placeholder_1:0\", shape=(3, ?), dtype=float32)\n",
      "W1 = <tf.Variable 'W1:0' shape=(64, 768) dtype=float32_ref>\n",
      "b1 = <tf.Variable 'b1:0' shape=(64, 1) dtype=float32_ref>\n",
      "W2 = <tf.Variable 'W2:0' shape=(64, 64) dtype=float32_ref>\n",
      "b2 = <tf.Variable 'b2:0' shape=(64, 1) dtype=float32_ref>\n",
      "W3 = <tf.Variable 'W3:0' shape=(64, 64) dtype=float32_ref>\n",
      "b3 = <tf.Variable 'b3:0' shape=(64, 1) dtype=float32_ref>\n",
      "W4 = <tf.Variable 'W4:0' shape=(1, 64) dtype=float32_ref>\n",
      "b4 = <tf.Variable 'b4:0' shape=(1, 1) dtype=float32_ref>\n"
     ]
    }
   ],
   "source": [
    "import numpy as np\n",
    "import pandas as pd\n",
    "import itertools\n",
    "import matplotlib.pyplot as plt\n",
    "%matplotlib inline\n",
    "from datetime import datetime, timedelta\n",
    "import tensorflow as tf\n",
    "from tensorflow.python.framework import ops\n",
    "import math\n",
    "from datetime import date\n",
    "import requests\n",
    "import json\n",
    "import urllib\n",
    "import sys\n",
    "import Data_Collection_Processing_DNR_Prediction_Functions as script"
   ]
  },
  {
   "cell_type": "code",
   "execution_count": 13,
   "metadata": {},
   "outputs": [
    {
     "data": {
      "text/plain": [
       "'20180831'"
      ]
     },
     "execution_count": 13,
     "metadata": {},
     "output_type": "execute_result"
    }
   ],
   "source": [
    "def Get_todays_Date():   \n",
    "    today = str(date.today())\n",
    "    today = today.split('-')\n",
    "#     del(today[0])\n",
    "    return str(today[0]) + str(today[1]) + str(today[2]) \n",
    "\n",
    "today = Get_todays_Date()\n",
    "today"
   ]
  },
  {
   "cell_type": "code",
   "execution_count": 3,
   "metadata": {},
   "outputs": [
    {
     "name": "stdout",
     "output_type": "stream",
     "text": [
      "shape: (191800, 22)\n"
     ]
    },
    {
     "data": {
      "text/html": [
       "<div>\n",
       "<style scoped>\n",
       "    .dataframe tbody tr th:only-of-type {\n",
       "        vertical-align: middle;\n",
       "    }\n",
       "\n",
       "    .dataframe tbody tr th {\n",
       "        vertical-align: top;\n",
       "    }\n",
       "\n",
       "    .dataframe thead th {\n",
       "        text-align: right;\n",
       "    }\n",
       "</style>\n",
       "<table border=\"1\" class=\"dataframe\">\n",
       "  <thead>\n",
       "    <tr style=\"text-align: right;\">\n",
       "      <th></th>\n",
       "      <th>Latitude (°N)</th>\n",
       "      <th>Longitude (°W)</th>\n",
       "      <th>Relative Humidity at 2m (%)</th>\n",
       "      <th>Surface Pressure (kPa)</th>\n",
       "      <th>Temperature at 2m (℃)</th>\n",
       "      <th>Downward Thermal Infrared Radiative Flux (kW-hr/m²/day)</th>\n",
       "      <th>Clear Sky Insolation Clearness Index</th>\n",
       "      <th>Top of Atmosphere Insolation (kW-hr/m²/day)</th>\n",
       "      <th>All Sky Insolation (kW-hr/m²/day)</th>\n",
       "      <th>JAN</th>\n",
       "      <th>...</th>\n",
       "      <th>APR</th>\n",
       "      <th>MAY</th>\n",
       "      <th>JUN</th>\n",
       "      <th>JUL</th>\n",
       "      <th>AUG</th>\n",
       "      <th>SEP</th>\n",
       "      <th>OCT</th>\n",
       "      <th>NOV</th>\n",
       "      <th>DEC</th>\n",
       "      <th>Direct Normal Radiation (kW-hr/m²/day)</th>\n",
       "    </tr>\n",
       "  </thead>\n",
       "  <tbody>\n",
       "    <tr>\n",
       "      <th>0</th>\n",
       "      <td>32.25</td>\n",
       "      <td>124.25</td>\n",
       "      <td>72.23</td>\n",
       "      <td>102.08</td>\n",
       "      <td>15.17</td>\n",
       "      <td>72.23</td>\n",
       "      <td>0.40</td>\n",
       "      <td>5.16</td>\n",
       "      <td>2.04</td>\n",
       "      <td>1</td>\n",
       "      <td>...</td>\n",
       "      <td>0</td>\n",
       "      <td>0</td>\n",
       "      <td>0</td>\n",
       "      <td>0</td>\n",
       "      <td>0</td>\n",
       "      <td>0</td>\n",
       "      <td>0</td>\n",
       "      <td>0</td>\n",
       "      <td>0</td>\n",
       "      <td>3.413545</td>\n",
       "    </tr>\n",
       "    <tr>\n",
       "      <th>1</th>\n",
       "      <td>32.25</td>\n",
       "      <td>123.75</td>\n",
       "      <td>71.51</td>\n",
       "      <td>102.07</td>\n",
       "      <td>14.91</td>\n",
       "      <td>71.51</td>\n",
       "      <td>0.50</td>\n",
       "      <td>5.10</td>\n",
       "      <td>2.55</td>\n",
       "      <td>1</td>\n",
       "      <td>...</td>\n",
       "      <td>0</td>\n",
       "      <td>0</td>\n",
       "      <td>0</td>\n",
       "      <td>0</td>\n",
       "      <td>0</td>\n",
       "      <td>0</td>\n",
       "      <td>0</td>\n",
       "      <td>0</td>\n",
       "      <td>0</td>\n",
       "      <td>3.430104</td>\n",
       "    </tr>\n",
       "    <tr>\n",
       "      <th>2</th>\n",
       "      <td>32.25</td>\n",
       "      <td>123.25</td>\n",
       "      <td>70.56</td>\n",
       "      <td>102.05</td>\n",
       "      <td>14.72</td>\n",
       "      <td>70.56</td>\n",
       "      <td>0.50</td>\n",
       "      <td>5.10</td>\n",
       "      <td>2.55</td>\n",
       "      <td>1</td>\n",
       "      <td>...</td>\n",
       "      <td>0</td>\n",
       "      <td>0</td>\n",
       "      <td>0</td>\n",
       "      <td>0</td>\n",
       "      <td>0</td>\n",
       "      <td>0</td>\n",
       "      <td>0</td>\n",
       "      <td>0</td>\n",
       "      <td>0</td>\n",
       "      <td>3.420178</td>\n",
       "    </tr>\n",
       "    <tr>\n",
       "      <th>3</th>\n",
       "      <td>32.25</td>\n",
       "      <td>122.75</td>\n",
       "      <td>69.12</td>\n",
       "      <td>102.04</td>\n",
       "      <td>14.56</td>\n",
       "      <td>69.12</td>\n",
       "      <td>0.53</td>\n",
       "      <td>5.15</td>\n",
       "      <td>2.71</td>\n",
       "      <td>1</td>\n",
       "      <td>...</td>\n",
       "      <td>0</td>\n",
       "      <td>0</td>\n",
       "      <td>0</td>\n",
       "      <td>0</td>\n",
       "      <td>0</td>\n",
       "      <td>0</td>\n",
       "      <td>0</td>\n",
       "      <td>0</td>\n",
       "      <td>0</td>\n",
       "      <td>3.807574</td>\n",
       "    </tr>\n",
       "    <tr>\n",
       "      <th>4</th>\n",
       "      <td>32.25</td>\n",
       "      <td>122.25</td>\n",
       "      <td>67.54</td>\n",
       "      <td>102.03</td>\n",
       "      <td>14.49</td>\n",
       "      <td>67.54</td>\n",
       "      <td>0.53</td>\n",
       "      <td>5.15</td>\n",
       "      <td>2.71</td>\n",
       "      <td>1</td>\n",
       "      <td>...</td>\n",
       "      <td>0</td>\n",
       "      <td>0</td>\n",
       "      <td>0</td>\n",
       "      <td>0</td>\n",
       "      <td>0</td>\n",
       "      <td>0</td>\n",
       "      <td>0</td>\n",
       "      <td>0</td>\n",
       "      <td>0</td>\n",
       "      <td>3.836880</td>\n",
       "    </tr>\n",
       "  </tbody>\n",
       "</table>\n",
       "<p>5 rows × 22 columns</p>\n",
       "</div>"
      ],
      "text/plain": [
       "   Latitude (°N)  Longitude (°W)  Relative Humidity at 2m (%)  \\\n",
       "0          32.25          124.25                        72.23   \n",
       "1          32.25          123.75                        71.51   \n",
       "2          32.25          123.25                        70.56   \n",
       "3          32.25          122.75                        69.12   \n",
       "4          32.25          122.25                        67.54   \n",
       "\n",
       "   Surface Pressure (kPa)  Temperature at 2m (℃)  \\\n",
       "0                  102.08                  15.17   \n",
       "1                  102.07                  14.91   \n",
       "2                  102.05                  14.72   \n",
       "3                  102.04                  14.56   \n",
       "4                  102.03                  14.49   \n",
       "\n",
       "   Downward Thermal Infrared Radiative Flux (kW-hr/m²/day)  \\\n",
       "0                                              72.23         \n",
       "1                                              71.51         \n",
       "2                                              70.56         \n",
       "3                                              69.12         \n",
       "4                                              67.54         \n",
       "\n",
       "   Clear Sky Insolation Clearness Index  \\\n",
       "0                                  0.40   \n",
       "1                                  0.50   \n",
       "2                                  0.50   \n",
       "3                                  0.53   \n",
       "4                                  0.53   \n",
       "\n",
       "   Top of Atmosphere Insolation (kW-hr/m²/day)  \\\n",
       "0                                         5.16   \n",
       "1                                         5.10   \n",
       "2                                         5.10   \n",
       "3                                         5.15   \n",
       "4                                         5.15   \n",
       "\n",
       "   All Sky Insolation (kW-hr/m²/day)  JAN  \\\n",
       "0                               2.04    1   \n",
       "1                               2.55    1   \n",
       "2                               2.55    1   \n",
       "3                               2.71    1   \n",
       "4                               2.71    1   \n",
       "\n",
       "                    ...                    APR  MAY  JUN  JUL  AUG  SEP  OCT  \\\n",
       "0                   ...                      0    0    0    0    0    0    0   \n",
       "1                   ...                      0    0    0    0    0    0    0   \n",
       "2                   ...                      0    0    0    0    0    0    0   \n",
       "3                   ...                      0    0    0    0    0    0    0   \n",
       "4                   ...                      0    0    0    0    0    0    0   \n",
       "\n",
       "   NOV  DEC  Direct Normal Radiation (kW-hr/m²/day)  \n",
       "0    0    0                                3.413545  \n",
       "1    0    0                                3.430104  \n",
       "2    0    0                                3.420178  \n",
       "3    0    0                                3.807574  \n",
       "4    0    0                                3.836880  \n",
       "\n",
       "[5 rows x 22 columns]"
      ]
     },
     "execution_count": 3,
     "metadata": {},
     "output_type": "execute_result"
    }
   ],
   "source": [
    "data = script.read_csv_file('Data/Neural Network/2015 to 2017 Solar with all Features.csv')\n",
    "script.Check(data)"
   ]
  },
  {
   "cell_type": "code",
   "execution_count": 4,
   "metadata": {},
   "outputs": [],
   "source": [
    "degree_celcius =  u\"\\u2103\"\n",
    "degree = u'\\xb0'\n",
    "square = '\\u00b2'"
   ]
  },
  {
   "cell_type": "code",
   "execution_count": 5,
   "metadata": {},
   "outputs": [],
   "source": [
    "# for i in range(5):\n",
    "#     data['DNR T-' + str(i+1)] = data['Direct Normal Radiation (kW-hr/m' + square + '/day)'].shift(periods=i+1, freq=None, axis=0)\n",
    "# data = data.dropna(axis=0, how='any').reset_index(drop=True)\n",
    "\n",
    "# script.Check(data)"
   ]
  },
  {
   "cell_type": "code",
   "execution_count": 6,
   "metadata": {},
   "outputs": [],
   "source": [
    "train_x, val_x, test_x, train_y, val_y, test_y = script.train_validate_test_split(data, 21, train_percent=.7, validate_percent=.2, seed=True)\n",
    "\n",
    "names = ['train_x', 'val_x', 'test_x', 'train_y', 'val_y', 'test_y']\n",
    "files = [train_x, val_x, test_x, train_y, val_y, test_y]"
   ]
  },
  {
   "cell_type": "code",
   "execution_count": 7,
   "metadata": {},
   "outputs": [
    {
     "name": "stdout",
     "output_type": "stream",
     "text": [
      "train_x:  (134260, 21)\n",
      "val_x:  (38360, 21)\n",
      "test_x:  (19180, 21)\n",
      "train_y:  (134260, 1)\n",
      "val_y:  (38360, 1)\n",
      "test_y:  (19180, 1)\n"
     ]
    }
   ],
   "source": [
    "Normalized_files = []\n",
    "Cols_max=[]\n",
    "for file in files:\n",
    "    Normalized_file = script.Normalize(file)[0]\n",
    "    file_max = script.Normalize(file)[1]\n",
    "    Normalized_files.append(Normalized_file)\n",
    "    Cols_max.append(file_max)\n",
    "    \n",
    "for i in range(len(Normalized_files)):\n",
    "    print(names[i]+ ': ', Normalized_files[i].shape)"
   ]
  },
  {
   "cell_type": "code",
   "execution_count": 8,
   "metadata": {},
   "outputs": [
    {
     "name": "stdout",
     "output_type": "stream",
     "text": [
      "train_x\n",
      "shape: (134260, 21)\n",
      "val_x\n",
      "shape: (38360, 21)\n",
      "test_x\n",
      "shape: (19180, 21)\n",
      "train_y\n",
      "shape: (134260, 1)\n",
      "val_y\n",
      "shape: (38360, 1)\n",
      "test_y\n",
      "shape: (19180, 1)\n"
     ]
    }
   ],
   "source": [
    "# Saving Files as .txt\n",
    "\n",
    "for i in range(6):\n",
    "    print(names[i])\n",
    "    script.Check(Normalized_files[i])\n",
    "    np.savetxt('Data/Neural Network/Normalized Files/solar' + names[i] + '.txt', Normalized_files[i].values)\n",
    "    np.savetxt('Data/Neural Network/Maximum Values/solar' + names[i] + '_max_values.txt', Cols_max[i].values)"
   ]
  },
  {
   "cell_type": "code",
   "execution_count": 9,
   "metadata": {},
   "outputs": [],
   "source": [
    "solar_arr = []\n",
    "\n",
    "for name in names:\n",
    "    txt_file = np.loadtxt('Data/Neural Network/Normalized files/solar' + name + '.txt', dtype=float)\n",
    "    txt_file = script.replace_zeros(txt_file)\n",
    "    solar_arr.append(txt_file)"
   ]
  },
  {
   "cell_type": "code",
   "execution_count": 10,
   "metadata": {},
   "outputs": [],
   "source": [
    "X_train = solar_arr[0]\n",
    "X_val = solar_arr[1]\n",
    "X_test = solar_arr[2]\n",
    "y_train = solar_arr[3]\n",
    "y_val = solar_arr[4]\n",
    "y_test = solar_arr[5]"
   ]
  },
  {
   "cell_type": "code",
   "execution_count": 11,
   "metadata": {},
   "outputs": [
    {
     "name": "stdout",
     "output_type": "stream",
     "text": [
      "X = Tensor(\"Placeholder:0\", shape=(20000, ?), dtype=float32)\n",
      "Y = Tensor(\"Placeholder_1:0\", shape=(6, ?), dtype=float32)\n"
     ]
    }
   ],
   "source": [
    "def create_placeholders(n_x, n_y):\n",
    "    X = tf.placeholder(shape=[n_x, None], dtype=tf.float32)\n",
    "    Y = tf.placeholder(shape=[n_y, None], dtype=tf.float32)\n",
    "    return X, Y\n",
    "\n",
    "X, Y = create_placeholders(20000, 6)\n",
    "print (\"X = \" + str(X))\n",
    "print (\"Y = \" + str(Y))"
   ]
  },
  {
   "cell_type": "code",
   "execution_count": 12,
   "metadata": {},
   "outputs": [],
   "source": [
    "def initialize_parameters(n_x, n_y, layers=4, layers_dim=[500, 500, 500, 1]):\n",
    "    \n",
    "    tf.set_random_seed(1)\n",
    "    parameters={}\n",
    "    for l in range(layers):\n",
    "        if l == 0:\n",
    "            parameters[\"W\"+str(l+1)] = tf.get_variable(\"W\"+str(l+1), [layers_dim[l], n_x], initializer=tf.contrib.layers.xavier_initializer(seed = 1))\n",
    "            parameters[\"b\"+str(l+1)] = tf.get_variable(\"b\"+str(l+1), [layers_dim[l], 1], initializer=tf.zeros_initializer())\n",
    "        else:\n",
    "            parameters[\"W\"+str(l+1)] = tf.get_variable(\"W\"+str(l+1), [layers_dim[l], layers_dim[l-1]], initializer=tf.contrib.layers.xavier_initializer(seed = 1))\n",
    "            parameters[\"b\"+str(l+1)] = tf.get_variable(\"b\"+str(l+1), [layers_dim[l], 1], initializer=tf.zeros_initializer())\n",
    "    \n",
    "    return parameters"
   ]
  },
  {
   "cell_type": "code",
   "execution_count": 13,
   "metadata": {},
   "outputs": [
    {
     "name": "stdout",
     "output_type": "stream",
     "text": [
      "W1 = <tf.Variable 'W1:0' shape=(500, 20000) dtype=float32_ref>\n",
      "b1 = <tf.Variable 'b1:0' shape=(500, 1) dtype=float32_ref>\n",
      "W2 = <tf.Variable 'W2:0' shape=(500, 500) dtype=float32_ref>\n",
      "b2 = <tf.Variable 'b2:0' shape=(500, 1) dtype=float32_ref>\n",
      "W3 = <tf.Variable 'W3:0' shape=(500, 500) dtype=float32_ref>\n",
      "b3 = <tf.Variable 'b3:0' shape=(500, 1) dtype=float32_ref>\n",
      "W4 = <tf.Variable 'W4:0' shape=(1, 500) dtype=float32_ref>\n",
      "b4 = <tf.Variable 'b4:0' shape=(1, 1) dtype=float32_ref>\n"
     ]
    }
   ],
   "source": [
    "tf.reset_default_graph()\n",
    "with tf.Session() as sess:\n",
    "    parameters = initialize_parameters(20000, 6)\n",
    "    print(\"W1 = \" + str(parameters[\"W1\"]))\n",
    "    print(\"b1 = \" + str(parameters[\"b1\"]))\n",
    "    print(\"W2 = \" + str(parameters[\"W2\"]))\n",
    "    print(\"b2 = \" + str(parameters[\"b2\"]))\n",
    "    print(\"W3 = \" + str(parameters[\"W3\"]))\n",
    "    print(\"b3 = \" + str(parameters[\"b3\"]))\n",
    "    print(\"W4 = \" + str(parameters[\"W4\"]))\n",
    "    print(\"b4 = \" + str(parameters[\"b4\"]))"
   ]
  },
  {
   "cell_type": "code",
   "execution_count": 14,
   "metadata": {},
   "outputs": [],
   "source": [
    "def forward_propagation(X, parameters, activation_types=[\"relu\",\"relu\",\"relu\",\"relu\"]):\n",
    "    mul = {}\n",
    "    L = int(len(parameters)/2)\n",
    "    for l in range(L):\n",
    "        if l == 0:\n",
    "            mul[\"Z\"+str(l+1)] = parameters[\"W\"+str(l+1)] @ X + parameters[\"b\"+str(l+1)]\n",
    "        else:\n",
    "            mul[\"Z\"+str(l+1)] = parameters[\"W\"+str(l+1)] @ mul[\"A\"+str(l)] + parameters[\"b\"+str(l+1)]\n",
    "        if activation_types[l] == \"relu\":\n",
    "            mul[\"A\"+str(l+1)] = tf.nn.relu(mul[\"Z\"+str(l+1)])\n",
    "        elif activation_types[l] == \"sigmoid\":\n",
    "            mul[\"A\"+str(l+1)] = tf.nn.sigmoid(mul[\"Z\"+str(l+1)])\n",
    "        else:\n",
    "            mul[\"A\"+str(l+1)] = mul[\"Z\"+str(l+1)]\n",
    "        \n",
    "    return mul[\"A\"+str(int(len(parameters)/2))]\n",
    "    "
   ]
  },
  {
   "cell_type": "code",
   "execution_count": 15,
   "metadata": {},
   "outputs": [],
   "source": [
    "def compute_cost(AL, Y, cost_type=\"mse\"):\n",
    "#     m = Y.shape[0]\n",
    "    cost = tf.reduce_mean((AL-Y)**2)\n",
    "    return cost"
   ]
  },
  {
   "cell_type": "code",
   "execution_count": 16,
   "metadata": {},
   "outputs": [],
   "source": [
    "def random_minibatches(X, Y, mini_batch_size=8, seed=1):\n",
    "    np.random.seed(seed)            # To make your \"random\" minibatches the same as ours\n",
    "    m = X.shape[1]                  # number of training examples\n",
    "    mini_batches = []\n",
    "        \n",
    "    # Step 1: Shuffle (X, Y)\n",
    "    permutation = list(np.random.permutation(m))\n",
    "    shuffled_X = X[:, permutation]\n",
    "    shuffled_Y = Y[:, permutation].reshape((1,m))\n",
    "\n",
    "    # Step 2: Partition (shuffled_X, shuffled_Y). Minus the end case.\n",
    "    num_complete_minibatches = math.floor(m/mini_batch_size) # number of mini batches of size mini_batch_size in your partitionning\n",
    "    for k in range(0, num_complete_minibatches):\n",
    "        ### START CODE HERE ### (approx. 2 lines)\n",
    "        mini_batch_X = shuffled_X[:, k*mini_batch_size: (k+1)*mini_batch_size]\n",
    "        mini_batch_Y = shuffled_Y[:, k*mini_batch_size: (k+1)*mini_batch_size]\n",
    "        ### END CODE HERE ###\n",
    "        mini_batch = (mini_batch_X, mini_batch_Y)\n",
    "        mini_batches.append(mini_batch)\n",
    "    \n",
    "    # Handling the end case (last mini-batch < mini_batch_size)\n",
    "    if m % mini_batch_size != 0:\n",
    "        mini_batch_X = shuffled_X[:, num_complete_minibatches:]\n",
    "        mini_batch_Y = shuffled_Y[:, num_complete_minibatches:]\n",
    "        mini_batch = (mini_batch_X, mini_batch_Y)\n",
    "        mini_batches.append(mini_batch)\n",
    "    \n",
    "    return mini_batches"
   ]
  },
  {
   "cell_type": "code",
   "execution_count": 27,
   "metadata": {},
   "outputs": [
    {
     "ename": "IndexError",
     "evalue": "too many indices for array",
     "output_type": "error",
     "traceback": [
      "\u001b[1;31m---------------------------------------------------------------------------\u001b[0m",
      "\u001b[1;31mIndexError\u001b[0m                                Traceback (most recent call last)",
      "\u001b[1;32m<ipython-input-27-6a0ce4e6c33f>\u001b[0m in \u001b[0;36m<module>\u001b[1;34m()\u001b[0m\n\u001b[0;32m     49\u001b[0m     \u001b[1;32mreturn\u001b[0m \u001b[0mparameters\u001b[0m\u001b[1;33m\u001b[0m\u001b[0m\n\u001b[0;32m     50\u001b[0m \u001b[1;33m\u001b[0m\u001b[0m\n\u001b[1;32m---> 51\u001b[1;33m \u001b[0mparameters\u001b[0m \u001b[1;33m=\u001b[0m \u001b[0mmodel\u001b[0m\u001b[1;33m(\u001b[0m\u001b[0mX_train\u001b[0m\u001b[1;33m,\u001b[0m \u001b[0my_train\u001b[0m\u001b[1;33m,\u001b[0m \u001b[0mX_val\u001b[0m\u001b[1;33m,\u001b[0m \u001b[0my_val\u001b[0m\u001b[1;33m)\u001b[0m\u001b[1;33m\u001b[0m\u001b[0m\n\u001b[0m",
      "\u001b[1;32m<ipython-input-27-6a0ce4e6c33f>\u001b[0m in \u001b[0;36mmodel\u001b[1;34m(X_train, Y_train, X_test, Y_test, learning_rate, num_epochs, print_cost, mini_batch_size)\u001b[0m\n\u001b[0;32m     23\u001b[0m             \u001b[0mepoch_cost\u001b[0m \u001b[1;33m=\u001b[0m \u001b[1;36m0.\u001b[0m\u001b[1;33m\u001b[0m\u001b[0m\n\u001b[0;32m     24\u001b[0m             \u001b[0mnum_minibatches\u001b[0m \u001b[1;33m=\u001b[0m \u001b[0mm\u001b[0m\u001b[1;33m/\u001b[0m\u001b[0mmini_batch_size\u001b[0m\u001b[1;33m\u001b[0m\u001b[0m\n\u001b[1;32m---> 25\u001b[1;33m             \u001b[0mminibatches\u001b[0m \u001b[1;33m=\u001b[0m \u001b[0mrandom_minibatches\u001b[0m\u001b[1;33m(\u001b[0m\u001b[0mX_train\u001b[0m\u001b[1;33m,\u001b[0m \u001b[0mY_train\u001b[0m\u001b[1;33m)\u001b[0m\u001b[1;33m\u001b[0m\u001b[0m\n\u001b[0m\u001b[0;32m     26\u001b[0m             \u001b[1;32mfor\u001b[0m \u001b[0mminibatch\u001b[0m \u001b[1;32min\u001b[0m \u001b[0mminibatches\u001b[0m\u001b[1;33m:\u001b[0m\u001b[1;33m\u001b[0m\u001b[0m\n\u001b[0;32m     27\u001b[0m                 \u001b[0mminibatch_X\u001b[0m\u001b[1;33m,\u001b[0m \u001b[0mminibatch_Y\u001b[0m \u001b[1;33m=\u001b[0m \u001b[0mminibatch\u001b[0m\u001b[1;33m\u001b[0m\u001b[0m\n",
      "\u001b[1;32m<ipython-input-16-39144b806851>\u001b[0m in \u001b[0;36mrandom_minibatches\u001b[1;34m(X, Y, mini_batch_size, seed)\u001b[0m\n\u001b[0;32m      7\u001b[0m     \u001b[0mpermutation\u001b[0m \u001b[1;33m=\u001b[0m \u001b[0mlist\u001b[0m\u001b[1;33m(\u001b[0m\u001b[0mnp\u001b[0m\u001b[1;33m.\u001b[0m\u001b[0mrandom\u001b[0m\u001b[1;33m.\u001b[0m\u001b[0mpermutation\u001b[0m\u001b[1;33m(\u001b[0m\u001b[0mm\u001b[0m\u001b[1;33m)\u001b[0m\u001b[1;33m)\u001b[0m\u001b[1;33m\u001b[0m\u001b[0m\n\u001b[0;32m      8\u001b[0m     \u001b[0mshuffled_X\u001b[0m \u001b[1;33m=\u001b[0m \u001b[0mX\u001b[0m\u001b[1;33m[\u001b[0m\u001b[1;33m:\u001b[0m\u001b[1;33m,\u001b[0m \u001b[0mpermutation\u001b[0m\u001b[1;33m]\u001b[0m\u001b[1;33m\u001b[0m\u001b[0m\n\u001b[1;32m----> 9\u001b[1;33m     \u001b[0mshuffled_Y\u001b[0m \u001b[1;33m=\u001b[0m \u001b[0mY\u001b[0m\u001b[1;33m[\u001b[0m\u001b[1;33m:\u001b[0m\u001b[1;33m,\u001b[0m \u001b[0mpermutation\u001b[0m\u001b[1;33m]\u001b[0m\u001b[1;33m.\u001b[0m\u001b[0mreshape\u001b[0m\u001b[1;33m(\u001b[0m\u001b[1;33m(\u001b[0m\u001b[1;36m1\u001b[0m\u001b[1;33m,\u001b[0m\u001b[0mm\u001b[0m\u001b[1;33m)\u001b[0m\u001b[1;33m)\u001b[0m\u001b[1;33m\u001b[0m\u001b[0m\n\u001b[0m\u001b[0;32m     10\u001b[0m \u001b[1;33m\u001b[0m\u001b[0m\n\u001b[0;32m     11\u001b[0m     \u001b[1;31m# Step 2: Partition (shuffled_X, shuffled_Y). Minus the end case.\u001b[0m\u001b[1;33m\u001b[0m\u001b[1;33m\u001b[0m\u001b[0m\n",
      "\u001b[1;31mIndexError\u001b[0m: too many indices for array"
     ]
    }
   ],
   "source": [
    "def model(X_train, Y_train, X_test, Y_test, learning_rate=0.01, num_epochs=100, print_cost=True, mini_batch_size=8):\n",
    "    ops.reset_default_graph()\n",
    "#     tf.set_random_seed(1)\n",
    "    (n_x, m) = X_train.shape\n",
    "    n_y = Y_train.shape[0]\n",
    "    costs=[]\n",
    "    \n",
    "    X, Y = script.create_placeholders(n_x, n_y)\n",
    "    \n",
    "    parameters = initialize_parameters(n_x, n_y)\n",
    "    \n",
    "    AL = forward_propagation(X, parameters)\n",
    "    \n",
    "    cost = compute_cost(AL, Y)\n",
    "    \n",
    "    optimizer = tf.train.AdamOptimizer(learning_rate=learning_rate).minimize(cost)\n",
    "    \n",
    "    init = tf.global_variables_initializer()\n",
    "    \n",
    "    with tf.Session() as sess:\n",
    "        sess.run(init)\n",
    "        for epoch in range(num_epochs):\n",
    "            epoch_cost = 0.\n",
    "            num_minibatches = m/mini_batch_size\n",
    "            minibatches = random_minibatches(X_train, Y_train)\n",
    "            for minibatch in minibatches:\n",
    "                minibatch_X, minibatch_Y = minibatch\n",
    "                _, minibatch_cost = sess.run((optimizer, cost), feed_dict={X:minibatch_X, Y:minibatch_Y})\n",
    "                epoch_cost += minibatch_cost/num_minibatches\n",
    "                \n",
    "            if print_cost == True:\n",
    "                if epoch%50==0:\n",
    "                    costs.append(epoch_cost)\n",
    "                    if epoch%100==0:\n",
    "                        print(\"Cost after epoch %i: %f\" % (epoch, epoch_cost))\n",
    "                        \n",
    "        plt.plot(np.squeeze(costs))\n",
    "        plt.ylabel('cost')\n",
    "        plt.xlabel('iterations (per tens)')\n",
    "        plt.title(\"Learning rate =\" + str(learning_rate))\n",
    "        plt.show()\n",
    "\n",
    "        parameters = sess.run(parameters)\n",
    "        accuracy = tf.reduce_mean(1-AL/Y)\n",
    "\n",
    "        print(\"Train accuracy: \", accuracy.eval({X: X_train, Y: Y_train}))\n",
    "        print(\"Test accuracy: \", accuracy.eval({X: X_test, Y: Y_test}))\n",
    "    \n",
    "    return parameters\n",
    "\n",
    "parameters = model(X_train, y_train, X_val, y_val)"
   ]
  },
  {
   "cell_type": "code",
   "execution_count": 26,
   "metadata": {},
   "outputs": [
    {
     "data": {
      "text/plain": [
       "array([1.00e+00, 0.00e+00, 2.00e+00, 9.00e+01, 1.00e-05, 0.00e+00,\n",
       "       0.00e+00, 0.00e+00, 6.74e+02])"
      ]
     },
     "execution_count": 26,
     "metadata": {},
     "output_type": "execute_result"
    }
   ],
   "source": [
    "x = [1,0,2,90,0.00001, 0, -87, -90, 674]\n",
    "np.maximum(x,0)"
   ]
  },
  {
   "cell_type": "code",
   "execution_count": 45,
   "metadata": {},
   "outputs": [],
   "source": [
    "def Get_Yesterday():\n",
    "    yes = str(date.today() + timedelta(days=-1)).split('-')\n",
    "    return str(yes[0] + yes[1] + yes[2])"
   ]
  },
  {
   "cell_type": "code",
   "execution_count": 59,
   "metadata": {},
   "outputs": [],
   "source": [
    "California_bbox = [32.5, -124.5, 42, -114.1]\n",
    "California_bbox_list = script.split_bbox(California_bbox)\n",
    "solar_features = script.create_features(['PRECTOT', 'RH2M', 'PS', 'T2M', 'ALLSKY_SFC_LW_DWN', 'KT_CLEAR', 'CLRSKY_SFC_SW_DWN', 'ALLSKY_TOA_SW_DWN', 'ALLSKY_SFC_SW_DWN'])\n",
    "dates = script.create_Dates(Get_Yesterday(), Get_Yesterday())"
   ]
  },
  {
   "cell_type": "code",
   "execution_count": 60,
   "metadata": {},
   "outputs": [],
   "source": [
    "def Download_Data(bbox_list, features, dates, user_community, temp_Average, Folder_name):\n",
    "    for j in range(len(bbox_list)):\n",
    "        url = 'https://power.larc.nasa.gov/cgi-bin/v1/DataAccess.py?request=execute&identifier=Regional&parameters='\\\n",
    "        + features + dates + \\\n",
    "        '&userCommunity=' + user_community + '&tempAverage=' + temp_Average + '&outputList=CSV&bbox=' +\\\n",
    "        str(California_bbox_list[j][0]) + ',' + str(bbox_list[j][1]) + ',' + str(bbox_list[j][2]) + ',' + \\\n",
    "        str(bbox_list[j][3]) + '&user=anonymous'\n",
    "        response = requests.get(url)\n",
    "        csv_url = response.json()['outputs']['csv']\n",
    "        urllib.request.urlretrieve(csv_url, 'Data/' + Folder_name + '/File_' + str(j+1) + '.csv')\n",
    "        print('set ' + str(j+1) + ' is complete' )"
   ]
  },
  {
   "cell_type": "code",
   "execution_count": 61,
   "metadata": {},
   "outputs": [
    {
     "name": "stdout",
     "output_type": "stream",
     "text": [
      "set 1 is complete\n",
      "set 2 is complete\n",
      "set 3 is complete\n"
     ]
    }
   ],
   "source": [
    "Download_Data(California_bbox_list, solar_features, dates, 'SB', 'DAILY', 'Today')"
   ]
  },
  {
   "cell_type": "code",
   "execution_count": 33,
   "metadata": {},
   "outputs": [
    {
     "ename": "TypeError",
     "evalue": "Get_csv() missing 1 required positional argument: 'header'",
     "output_type": "error",
     "traceback": [
      "\u001b[1;31m---------------------------------------------------------------------------\u001b[0m",
      "\u001b[1;31mTypeError\u001b[0m                                 Traceback (most recent call last)",
      "\u001b[1;32m<ipython-input-33-7eb06c3ff459>\u001b[0m in \u001b[0;36m<module>\u001b[1;34m()\u001b[0m\n\u001b[1;32m----> 1\u001b[1;33m \u001b[0mscript\u001b[0m\u001b[1;33m.\u001b[0m\u001b[0mGet_csv\u001b[0m\u001b[1;33m(\u001b[0m\u001b[0mCalifornia_bbox_list\u001b[0m\u001b[1;33m,\u001b[0m \u001b[1;34m'Today'\u001b[0m\u001b[1;33m)\u001b[0m\u001b[1;33m\u001b[0m\u001b[0m\n\u001b[0m",
      "\u001b[1;31mTypeError\u001b[0m: Get_csv() missing 1 required positional argument: 'header'"
     ]
    }
   ],
   "source": [
    "script.Get_csv(California_bbox_list, 'Today', 21)"
   ]
  },
  {
   "cell_type": "code",
   "execution_count": null,
   "metadata": {},
   "outputs": [],
   "source": []
  }
 ],
 "metadata": {
  "kernelspec": {
   "display_name": "Python 3",
   "language": "python",
   "name": "python3"
  },
  "language_info": {
   "codemirror_mode": {
    "name": "ipython",
    "version": 3
   },
   "file_extension": ".py",
   "mimetype": "text/x-python",
   "name": "python",
   "nbconvert_exporter": "python",
   "pygments_lexer": "ipython3",
   "version": "3.6.5"
  }
 },
 "nbformat": 4,
 "nbformat_minor": 2
}
